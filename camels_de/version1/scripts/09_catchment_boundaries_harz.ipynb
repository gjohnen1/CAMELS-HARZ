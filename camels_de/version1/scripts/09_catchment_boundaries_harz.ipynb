{
 "cells": [
  {
   "cell_type": "markdown",
   "metadata": {},
   "source": [
    "# Catchment Boundaries\n",
    "\n",
    "Notebook to create the files `CAMELS_DE_catchment_boundaries.geopackage` and `CAMELS_DE_catchment_boundaries.shp`.  \n",
    "As well as `CAMELS_DE_gauging_stations.geopackage` and `CAMELS_DE_gauging_stations.shp`.  \n",
    "\n",
    "We always use `EPSG:3035` as the coordinate reference system."
   ]
  },
  {
   "cell_type": "code",
   "execution_count": 1,
   "metadata": {},
   "outputs": [],
   "source": [
    "from glob import glob\n",
    "import os\n",
    "import pandas as pd\n",
    "import geopandas as gpd"
   ]
  },
  {
   "cell_type": "code",
   "execution_count": 2,
   "metadata": {},
   "outputs": [
    {
     "name": "stdout",
     "output_type": "stream",
     "text": [
      "Total number of stations in CAMELS-DE v1: 5\n"
     ]
    }
   ],
   "source": [
    "# get camels_ids from hydromet timeseries\n",
    "camels_ids = [camels_id.split(\"_\")[-1].split(\".csv\")[0] for camels_id in glob(\"../output_data/camels_de/timeseries/*.csv\")]\n",
    "\n",
    "# sort camels_ids\n",
    "camels_ids = sorted(camels_ids)\n",
    "\n",
    "print(f\"Total number of stations in CAMELS-DE v1: {len(camels_ids)}\")"
   ]
  },
  {
   "cell_type": "markdown",
   "metadata": {},
   "source": [
    "## Save catchment boundaries\n",
    "\n",
    "Get all the catchment boundaries from the CAMELS-DE dataset and save them in a geopackage and shapefile."
   ]
  },
  {
   "cell_type": "code",
   "execution_count": 3,
   "metadata": {},
   "outputs": [],
   "source": [
    "CATCHMENT_PATH = \"../../../catchments_harz\"\n",
    "\n",
    "# Mapping catchment IDs to shapefiles\n",
    "id_mapping = {\n",
    "    '1': dict(shapefile = \"innerste_reservoir_catchment.shp\", catchment_id = 1),\n",
    "    '2': dict(shapefile = \"oker_reservoir_catchment.shp\", catchment_id = 2),\n",
    "    '3': dict(shapefile = \"ecker_reservoir_catchment.shp\", catchment_id = 3),\n",
    "    '4': dict(shapefile = \"soese_reservoir_catchment.shp\", catchment_id = 4),\n",
    "    '5': dict(shapefile = \"grane_reservoir_catchment.shp\", catchment_id = 5),\n",
    "}\n",
    "\n",
    "catchments = []\n",
    "\n",
    "\n",
    "for camels_id in camels_ids:\n",
    "    \n",
    "    # initialize catchment\n",
    "    catchment_info = id_mapping[camels_id]\n",
    "    shapefile_path = os.path.join(CATCHMENT_PATH, catchment_info[\"shapefile\"])\n",
    "    catchment = gpd.read_file(shapefile_path)\n",
    "\n",
    "    # from epsg:4326 to epsg:3035\n",
    "    catchment = catchment.to_crs(epsg=3035)\n",
    "\n",
    "    # add catchment to catchments\n",
    "    catchments.append(catchment)\n",
    "\n",
    "# concatenate all catchments into a single GeoDataFrame\n",
    "catchments = gpd.pd.concat(catchments, ignore_index=True)\n",
    "catchments.crs = \"EPSG:3035\"\n",
    "\n",
    "# rename columns\n",
    "catchments = catchments.rename(columns={\"id\": \"gauge_id\", \"name\": \"gauge_name\"})\n",
    "\n",
    "# drop columns\n",
    "# catchments = catchments.drop(columns=[\"result\", \"area_calc\", \"area_reported\"])\n",
    "\n",
    "# make directory if not exists\n",
    "os.makedirs(\"../output_data/camels_de/CAMELS_DE_catchment_boundaries\", exist_ok=True)\n",
    "os.makedirs(\"../output_data/camels_de/CAMELS_DE_catchment_boundaries/catchments\", exist_ok=True)\n",
    "\n",
    "# save catchments\n",
    "catchments.to_file(\"../output_data/camels_de/CAMELS_DE_catchment_boundaries/catchments/CAMELS_DE_catchments.shp\")\n",
    "catchments.to_file(\"../output_data/camels_de/CAMELS_DE_catchment_boundaries/catchments/CAMELS_DE_catchments.gpkg\", driver=\"GPKG\")"
   ]
  },
  {
   "cell_type": "markdown",
   "metadata": {},
   "source": [
    "## Save gauging station locations"
   ]
  },
  {
   "cell_type": "code",
   "execution_count": null,
   "metadata": {},
   "outputs": [],
   "source": [
    "# read station locations from topographic attributes\n",
    "df = pd.read_csv(\"../output_data/camels_de/CAMELS_DE_topographic_attributes.csv\")\n",
    "\n",
    "# convert to GeoDataFrame\n",
    "gdf = gpd.GeoDataFrame(df, geometry=gpd.points_from_xy(df[\"gauge_easting\"], df[\"gauge_northing\"]))\n",
    "gdf.crs = \"EPSG:3035\"\n",
    "\n",
    "# only keep columns gauge_id, gauge_name, geometry\n",
    "gdf = gdf[[\"gauge_id\", \"gauge_name\", \"geometry\"]]\n",
    "\n",
    "# make directory if not exists\n",
    "os.makedirs(\"../output_data/camels_de/CAMELS_DE_catchment_boundaries/gauging_stations\", exist_ok=True)\n",
    "\n",
    "# save station locations\n",
    "gdf.to_file(\"../output_data/camels_de/CAMELS_DE_catchment_boundaries/gauging_stations/CAMELS_DE_gauging_stations.shp\")\n",
    "gdf.to_file(\"../output_data/camels_de/CAMELS_DE_catchment_boundaries/gauging_stations/CAMELS_DE_gauging_stations.gpkg\", driver=\"GPKG\")"
   ]
  }
 ],
 "metadata": {
  "kernelspec": {
   "display_name": "base",
   "language": "python",
   "name": "python3"
  },
  "language_info": {
   "codemirror_mode": {
    "name": "ipython",
    "version": 3
   },
   "file_extension": ".py",
   "mimetype": "text/x-python",
   "name": "python",
   "nbconvert_exporter": "python",
   "pygments_lexer": "ipython3",
   "version": "3.10.14"
  }
 },
 "nbformat": 4,
 "nbformat_minor": 2
}
