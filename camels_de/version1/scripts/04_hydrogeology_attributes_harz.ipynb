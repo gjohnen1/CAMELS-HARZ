{
 "cells": [
  {
   "cell_type": "markdown",
   "metadata": {},
   "source": [
    "# Hydrogeology attributes\n",
    "\n",
    "Notebook to create the file `CAMELS_DE_hydrogeology_attributes.csv`.  \n",
    "\n",
    "columns:\n",
    "- gauge_id [%]\n",
    "- aquitard_perc [%]\n",
    "- aquifer_perc [%]\n",
    "- aquifer_aquitard_mixed_perc [%]\n",
    "- kf_very_high_perc [%]\n",
    "- kf_high_perc [%]\n",
    "- kf_medium_perc [%]\n",
    "- kf_moderate_perc [%]\n",
    "- kf_low_perc [%]\n",
    "- kf_very_low_perc [%]\n",
    "- kf_extremely_low_perc [%]\n",
    "- kf_very_high_to_high_perc [%]\n",
    "- kf_medium_to_moderate_perc [%]\n",
    "- kf_low_to_extremely_low_perc [%]\n",
    "- kf_highly_variable_perc [%]\n",
    "- kf_moderate_to_low_perc [%]\n",
    "- cavity_fissure_perc [%]\n",
    "- cavity_pores_perc [%]\n",
    "- cavity_fissure_karst_perc [%]\n",
    "- cavity_fissure_pores_perc [%]\n",
    "- rocktype_sediment_perc [%]\n",
    "- rocktype_metamorphite_perc [%]\n",
    "- rocktype_magmatite_perc [%]\n",
    "- consolidation_solid_rock_perc [%]\n",
    "- consolidation_unconsolidated_rock_perc [%]\n",
    "- geochemical_rocktype_silicate_perc [%]\n",
    "- geochemical_rocktype_silicate_carbonatic_perc [%]\n",
    "- geochemical_rocktype_carbonatic_perc [%]\n",
    "- geochemical_rocktype_sulfatic_perc [%]\n",
    "- geochemical_rocktype_silicate_organic_components_perc [%]\n",
    "- geochemical_rocktype_anthropogenically_modified_through_filling_perc [%]\n",
    "- geochemical_rocktype_sulfatic_halitic_perc [%]\n",
    "- geochemical_rocktype_halitic_perc [%]\n",
    "- waterbody_perc [%]\n",
    "- no_data_perc [%]"
   ]
  },
  {
   "cell_type": "code",
   "execution_count": 1,
   "metadata": {},
   "outputs": [],
   "source": [
    "import os\n",
    "from glob import glob\n",
    "import pandas as pd"
   ]
  },
  {
   "cell_type": "code",
   "execution_count": 2,
   "metadata": {},
   "outputs": [
    {
     "name": "stdout",
     "output_type": "stream",
     "text": [
      "Total number of stations in CAMELS-DE v1: 5\n"
     ]
    }
   ],
   "source": [
    "# get camels_ids from hydromet timeseries\n",
    "camels_ids = [camels_id.split(\"_\")[-1].split(\".csv\")[0] for camels_id in glob(\"../output_data/camels_de/timeseries/*.csv\")]\n",
    "\n",
    "# sort camels_ids\n",
    "camels_ids = sorted(camels_ids)\n",
    "\n",
    "print(f\"Total number of stations in CAMELS-DE v1: {len(camels_ids)}\")"
   ]
  },
  {
   "cell_type": "markdown",
   "metadata": {},
   "source": [
    "## Read, process and save hydrogeology data\n",
    "\n",
    "We extracted the hydrogeology attributes from the HUEK250 dataset, read and process here."
   ]
  },
  {
   "cell_type": "code",
   "execution_count": 1,
   "metadata": {},
   "outputs": [
    {
     "ename": "NameError",
     "evalue": "name 'pd' is not defined",
     "output_type": "error",
     "traceback": [
      "\u001b[0;31m---------------------------------------------------------------------------\u001b[0m",
      "\u001b[0;31mNameError\u001b[0m                                 Traceback (most recent call last)",
      "Cell \u001b[0;32mIn[1], line 2\u001b[0m\n\u001b[1;32m      1\u001b[0m \u001b[38;5;66;03m# dataframe to store all hydrogeo data for all camels_ids\u001b[39;00m\n\u001b[0;32m----> 2\u001b[0m df_all \u001b[38;5;241m=\u001b[39m \u001b[43mpd\u001b[49m\u001b[38;5;241m.\u001b[39mDataFrame()\n\u001b[1;32m      4\u001b[0m \u001b[38;5;66;03m# huek250 variables\u001b[39;00m\n\u001b[1;32m      5\u001b[0m variables \u001b[38;5;241m=\u001b[39m [\u001b[38;5;124m\"\u001b[39m\u001b[38;5;124mch\u001b[39m\u001b[38;5;124m\"\u001b[39m, \u001b[38;5;124m\"\u001b[39m\u001b[38;5;124mkf\u001b[39m\u001b[38;5;124m\"\u001b[39m, \u001b[38;5;124m\"\u001b[39m\u001b[38;5;124mha\u001b[39m\u001b[38;5;124m\"\u001b[39m, \u001b[38;5;124m\"\u001b[39m\u001b[38;5;124mga\u001b[39m\u001b[38;5;124m\"\u001b[39m, \u001b[38;5;124m\"\u001b[39m\u001b[38;5;124mvf\u001b[39m\u001b[38;5;124m\"\u001b[39m, \u001b[38;5;124m\"\u001b[39m\u001b[38;5;124mgc\u001b[39m\u001b[38;5;124m\"\u001b[39m]\n",
      "\u001b[0;31mNameError\u001b[0m: name 'pd' is not defined"
     ]
    }
   ],
   "source": [
    "# dataframe to store all hydrogeo data for all camels_ids\n",
    "df_all = pd.DataFrame()\n",
    "\n",
    "# huek250 variables\n",
    "variables = [\"ch\", \"kf\", \"ha\", \"ga\", \"vf\", \"gc\"]\n",
    "\n",
    "for camels_id in camels_ids:\n",
    "    # dataframe to store all hydrogeo data for a single camels_id\n",
    "    df = pd.DataFrame()\n",
    "    df[\"gauge_id\"] = [camels_id]\n",
    "\n",
    "    # read all variables\n",
    "    for variable in variables:\n",
    "        path = os.path.join('../../../camels_hydrogeo/huek250/output_data', f'{camels_id}/data/huek250_{variable}.csv')\n",
    "        df_variable = pd.read_csv(path)\n",
    "\n",
    "        # drop column camels_id\n",
    "        df_variable.drop(\"camels_id\", axis=1, inplace=True)\n",
    "\n",
    "        # concatenate dataframes\n",
    "        df = pd.concat([df, df_variable], axis=1)\n",
    "\n",
    "    # check that all waterbody columns have the same value\n",
    "    waterbody_cols = [col for col in df.columns if \"waterbody\" in col]\n",
    "    assert len(set(df[waterbody_cols].values.flatten().tolist())) == 1\n",
    "\n",
    "    # make one waterbody column\n",
    "    df[\"waterbody_perc\"] = df[waterbody_cols[0]]\n",
    "    df.drop(waterbody_cols, axis=1, inplace=True)\n",
    "\n",
    "    # check that all no_data columns have the same value\n",
    "    no_data_cols = [col for col in df.columns if \"no_data\" in col]\n",
    "    assert len(set(df[no_data_cols].values.flatten().tolist())) == 1\n",
    "\n",
    "    # make one no_data column\n",
    "    df[\"no_data_perc\"] = df[no_data_cols[0]]\n",
    "    df.drop(no_data_cols, axis=1, inplace=True)\n",
    "    \n",
    "    # add to df_all\n",
    "    df_all = pd.concat([df_all, df], axis=0)\n",
    "\n",
    "# round to 2 decimal places\n",
    "df_all = df_all.round(2)\n",
    "\n",
    "# save results\n",
    "df_all.to_csv(\"../output_data/camels_de/CAMELS_DE_hydrogeology_attributes.csv\", index=False) "
   ]
  }
 ],
 "metadata": {
  "kernelspec": {
   "display_name": "base",
   "language": "python",
   "name": "python3"
  },
  "language_info": {
   "codemirror_mode": {
    "name": "ipython",
    "version": 3
   },
   "file_extension": ".py",
   "mimetype": "text/x-python",
   "name": "python",
   "nbconvert_exporter": "python",
   "pygments_lexer": "ipython3",
   "version": "3.10.14"
  }
 },
 "nbformat": 4,
 "nbformat_minor": 2
}
