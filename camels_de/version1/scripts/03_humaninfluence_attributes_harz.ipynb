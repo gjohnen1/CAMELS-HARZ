{
 "cells": [
  {
   "cell_type": "markdown",
   "metadata": {},
   "source": [
    "# Climatic attributes\n",
    "\n",
    "Notebook to create the file `CAMELS_DE_humaninfluence_attributes.csv`.  \n",
    "\n",
    "columns:\n",
    "- gauge_id\n",
    "- dams_names\n",
    "- dams_river_names\n",
    "- dams_num\n",
    "- dams_year_first\n",
    "- dams_year_last\n",
    "- dams_total_lake_area [km²]\n",
    "- dams_total_lake_volume [Mio. m³]\n",
    "- dams_purposes"
   ]
  },
  {
   "cell_type": "code",
   "execution_count": 4,
   "metadata": {},
   "outputs": [],
   "source": [
    "import os\n",
    "from glob import glob\n",
    "import pandas as pd"
   ]
  },
  {
   "cell_type": "code",
   "execution_count": 5,
   "metadata": {},
   "outputs": [
    {
     "name": "stdout",
     "output_type": "stream",
     "text": [
      "Total number of stations in CAMELS-DE v1: 5\n"
     ]
    }
   ],
   "source": [
    "# get camels_ids from hydromet timeseries\n",
    "camels_ids = [camels_id.split(\"_\")[-1].split(\".csv\")[0] for camels_id in glob(\"../output_data/camels_de/timeseries/*.csv\")]\n",
    "\n",
    "# sort camels_ids\n",
    "camels_ids = sorted(camels_ids)\n",
    "\n",
    "print(f\"Total number of stations in CAMELS-DE v1: {len(camels_ids)}\")"
   ]
  },
  {
   "cell_type": "markdown",
   "metadata": {},
   "source": [
    "## Read human influence data"
   ]
  },
  {
   "cell_type": "markdown",
   "metadata": {},
   "source": [
    "### Inventory of dams in Germany (DIG)\n",
    "\n",
    "We can use the data as is."
   ]
  },
  {
   "cell_type": "code",
   "execution_count": 13,
   "metadata": {},
   "outputs": [
    {
     "data": {
      "text/html": [
       "<div>\n",
       "<style scoped>\n",
       "    .dataframe tbody tr th:only-of-type {\n",
       "        vertical-align: middle;\n",
       "    }\n",
       "\n",
       "    .dataframe tbody tr th {\n",
       "        vertical-align: top;\n",
       "    }\n",
       "\n",
       "    .dataframe thead th {\n",
       "        text-align: right;\n",
       "    }\n",
       "</style>\n",
       "<table border=\"1\" class=\"dataframe\">\n",
       "  <thead>\n",
       "    <tr style=\"text-align: right;\">\n",
       "      <th></th>\n",
       "      <th>gauge_id</th>\n",
       "      <th>dams_names</th>\n",
       "      <th>dams_river_names</th>\n",
       "      <th>dams_num</th>\n",
       "      <th>dams_year_first</th>\n",
       "      <th>dams_year_last</th>\n",
       "      <th>dams_total_lake_area</th>\n",
       "      <th>dams_total_lake_volume</th>\n",
       "      <th>dams_purposes</th>\n",
       "    </tr>\n",
       "  </thead>\n",
       "  <tbody>\n",
       "    <tr>\n",
       "      <th>0</th>\n",
       "      <td>1</td>\n",
       "      <td>Innerste Talsperre|Mittlerer Pfauenteich|Mittl...</td>\n",
       "      <td>Zellbach|Innerste|Oberharze</td>\n",
       "      <td>3</td>\n",
       "      <td>1551</td>\n",
       "      <td>1966</td>\n",
       "      <td>1.56</td>\n",
       "      <td>20.04</td>\n",
       "      <td>Flood control|Water supply|Recreational use|En...</td>\n",
       "    </tr>\n",
       "    <tr>\n",
       "      <th>1</th>\n",
       "      <td>2</td>\n",
       "      <td>Oker Talsperre|Okertalsperre Vorsperre|Fortune...</td>\n",
       "      <td>Jägersbleeker Teich|Hellertalbach|booker</td>\n",
       "      <td>4</td>\n",
       "      <td>1670</td>\n",
       "      <td>1956</td>\n",
       "      <td>2.54</td>\n",
       "      <td>48.24</td>\n",
       "      <td>Flood control|Water supply|Recreational use|Na...</td>\n",
       "    </tr>\n",
       "    <tr>\n",
       "      <th>2</th>\n",
       "      <td>3</td>\n",
       "      <td>NaN</td>\n",
       "      <td>NaN</td>\n",
       "      <td>0</td>\n",
       "      <td>&lt;NA&gt;</td>\n",
       "      <td>&lt;NA&gt;</td>\n",
       "      <td>0.00</td>\n",
       "      <td>0.00</td>\n",
       "      <td>NaN</td>\n",
       "    </tr>\n",
       "    <tr>\n",
       "      <th>3</th>\n",
       "      <td>4</td>\n",
       "      <td>Sösetalsperre Vorsperre|Söse Talsperre</td>\n",
       "      <td>Söse</td>\n",
       "      <td>2</td>\n",
       "      <td>1931</td>\n",
       "      <td>1931</td>\n",
       "      <td>1.37</td>\n",
       "      <td>26.09</td>\n",
       "      <td>Flood control|Transport|Energy production|Wate...</td>\n",
       "    </tr>\n",
       "    <tr>\n",
       "      <th>4</th>\n",
       "      <td>5</td>\n",
       "      <td>Grane Talsperre</td>\n",
       "      <td>Grane</td>\n",
       "      <td>1</td>\n",
       "      <td>1969</td>\n",
       "      <td>1969</td>\n",
       "      <td>2.19</td>\n",
       "      <td>46.39</td>\n",
       "      <td>Flood control|Energy production|Water supply</td>\n",
       "    </tr>\n",
       "  </tbody>\n",
       "</table>\n",
       "</div>"
      ],
      "text/plain": [
       "   gauge_id                                         dams_names  \\\n",
       "0         1  Innerste Talsperre|Mittlerer Pfauenteich|Mittl...   \n",
       "1         2  Oker Talsperre|Okertalsperre Vorsperre|Fortune...   \n",
       "2         3                                                NaN   \n",
       "3         4             Sösetalsperre Vorsperre|Söse Talsperre   \n",
       "4         5                                    Grane Talsperre   \n",
       "\n",
       "                           dams_river_names  dams_num  dams_year_first  \\\n",
       "0               Zellbach|Innerste|Oberharze         3             1551   \n",
       "1  Jägersbleeker Teich|Hellertalbach|booker         4             1670   \n",
       "2                                       NaN         0             <NA>   \n",
       "3                                      Söse         2             1931   \n",
       "4                                     Grane         1             1969   \n",
       "\n",
       "   dams_year_last  dams_total_lake_area  dams_total_lake_volume  \\\n",
       "0            1966                  1.56                   20.04   \n",
       "1            1956                  2.54                   48.24   \n",
       "2            <NA>                  0.00                    0.00   \n",
       "3            1931                  1.37                   26.09   \n",
       "4            1969                  2.19                   46.39   \n",
       "\n",
       "                                       dams_purposes  \n",
       "0  Flood control|Water supply|Recreational use|En...  \n",
       "1  Flood control|Water supply|Recreational use|Na...  \n",
       "2                                                NaN  \n",
       "3  Flood control|Transport|Energy production|Wate...  \n",
       "4       Flood control|Energy production|Water supply  "
      ]
     },
     "execution_count": 13,
     "metadata": {},
     "output_type": "execute_result"
    }
   ],
   "source": [
    "# path of extracted dam data\n",
    "path = os.path.join('..', '..', '..', 'camels_human_influence', 'dams', 'output_data', 'dams_in_germany.csv')\n",
    "\n",
    "# read dam data\n",
    "dam_data = pd.read_csv(path)\n",
    "\n",
    "# filter for camels_ids and sort by camels_id\n",
    "dam_data = dam_data.sort_values(\"camels_id\").reset_index(drop=True)\n",
    "\n",
    "# make columns dams_year_last and dams_year_first integer\n",
    "dam_data[\"dams_year_first\"] = dam_data[\"dams_year_first\"].astype(\"Int64\")\n",
    "dam_data[\"dams_year_last\"] = dam_data[\"dams_year_last\"].astype(\"Int64\")\n",
    "\n",
    "# rename column camels_id to gauge_id\n",
    "dam_data = dam_data.rename(columns={\"camels_id\": \"gauge_id\"})\n",
    "\n",
    "dam_data"
   ]
  },
  {
   "cell_type": "code",
   "execution_count": 14,
   "metadata": {},
   "outputs": [],
   "source": [
    "# save human influences data\n",
    "dam_data.to_csv(\"../output_data/camels_de/CAMELS_DE_humaninfluence_attributes.csv\", index=False)"
   ]
  }
 ],
 "metadata": {
  "kernelspec": {
   "display_name": "base",
   "language": "python",
   "name": "python3"
  },
  "language_info": {
   "codemirror_mode": {
    "name": "ipython",
    "version": 3
   },
   "file_extension": ".py",
   "mimetype": "text/x-python",
   "name": "python",
   "nbconvert_exporter": "python",
   "pygments_lexer": "ipython3",
   "version": "3.10.14"
  }
 },
 "nbformat": 4,
 "nbformat_minor": 2
}
