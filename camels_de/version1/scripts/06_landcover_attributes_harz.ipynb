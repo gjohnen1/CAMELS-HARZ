{
 "cells": [
  {
   "cell_type": "markdown",
   "metadata": {},
   "source": [
    "# Landcover attributes\n",
    "\n",
    "Notebook to create the file `CAMELS_DE_landcover_attributes.csv`.\n",
    "\n",
    "columns:\n",
    "\n",
    "- gauge_id\n",
    "- artificial_surfaces_perc [%]\n",
    "- agricultural_areas_perc [%]\n",
    "- forests_and_seminatural_areas_perc [%]\n",
    "- wetlands_perc [%]\n",
    "- water_bodies_perc [%]\n"
   ]
  },
  {
   "cell_type": "code",
   "execution_count": 1,
   "metadata": {},
   "outputs": [],
   "source": [
    "import os\n",
    "from glob import glob\n",
    "import pandas as pd"
   ]
  },
  {
   "cell_type": "code",
   "execution_count": 2,
   "metadata": {},
   "outputs": [
    {
     "name": "stdout",
     "output_type": "stream",
     "text": [
      "Total number of stations in CAMELS-DE v1: 5\n"
     ]
    }
   ],
   "source": [
    "# get camels_ids from hydromet timeseries\n",
    "camels_ids = [camels_id.split(\"_\")[-1].split(\".csv\")[0] for camels_id in glob(\"../output_data/camels_de/timeseries/*.csv\")]\n",
    "\n",
    "# sort camels_ids\n",
    "camels_ids = sorted(camels_ids)\n",
    "\n",
    "print(f\"Total number of stations in CAMELS-DE v1: {len(camels_ids)}\")"
   ]
  },
  {
   "cell_type": "markdown",
   "metadata": {},
   "source": [
    "## Read landcover data\n",
    "\n",
    "We extracted the landcover attributes from the CORINE dataset, read and process here.\n"
   ]
  },
  {
   "cell_type": "code",
   "execution_count": 4,
   "metadata": {},
   "outputs": [],
   "source": [
    "# read landcover data\n",
    "df = pd.read_csv(os.path.join('../../..', \"camels_landcover/corine/output_data/corine_extracted.csv\"))\n",
    "\n",
    "# turn camels_id into object\n",
    "df[\"camels_id\"] = df[\"camels_id\"].astype(str)\n",
    "\n",
    "# filter for camels_ids and sort by camels_id\n",
    "df = df[df[\"camels_id\"].isin(camels_ids)].sort_values(\"camels_id\").reset_index(drop=True)\n",
    "\n",
    "# round to 2 decimal places\n",
    "df = df.round(2)\n",
    "\n",
    "# rename column camels_id to gauge_id\n",
    "df = df.rename(columns={\"camels_id\": \"gauge_id\"})\n",
    "\n",
    "df.to_csv(\"../output_data/camels_de/CAMELS_DE_landcover_attributes.csv\", index=False)"
   ]
  }
 ],
 "metadata": {
  "kernelspec": {
   "display_name": "base",
   "language": "python",
   "name": "python3"
  },
  "language_info": {
   "codemirror_mode": {
    "name": "ipython",
    "version": 3
   },
   "file_extension": ".py",
   "mimetype": "text/x-python",
   "name": "python",
   "nbconvert_exporter": "python",
   "pygments_lexer": "ipython3",
   "version": "3.10.14"
  }
 },
 "nbformat": 4,
 "nbformat_minor": 2
}
